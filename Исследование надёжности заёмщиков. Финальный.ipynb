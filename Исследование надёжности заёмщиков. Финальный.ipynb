{
 "cells": [
  {
   "cell_type": "markdown",
   "metadata": {},
   "source": [
    "# КОММЕНТАРИЙ РЕВЬЮВЕРА 2:\n",
    "\n",
    "Приветствую тебя еще раз!) Спасибо за то, что доработал проект!\n",
    "\n",
    "Мои комментарии будут также обозначены разными цветами, но с пометкой 2:\n",
    "    \n",
    "    «КОММЕНТАРИЙ РЕВЬЮВЕРА 2: ... »"
   ]
  },
  {
   "cell_type": "markdown",
   "metadata": {},
   "source": [
    "<div class=\"alert alert-block alert-success\">\n",
    "<b>КОММЕНТАРИЙ РЕВЬЮВЕРА 2:</b> \n",
    "\n",
    "Сергей, ты хорошо доработал проект, думаю теперь я могу его принять, желаю тебе успехов в дальнейшем обучении!)\n",
    "\n",
    "</div>"
   ]
  },
  {
   "cell_type": "markdown",
   "metadata": {},
   "source": [
    "# КОММЕНТАРИЙ ОТ РЕВЬЮВЕРА\n",
    "Привет, Сергей!)\n",
    "\n",
    "Меня зовут Обидин Андрей, я проверял твой проект. Благодарю тебя за то, что вовремя всё сдал и хорошо поработал!) Мне понраивлся твой проект, однако есть несколько замечаний и рекомендаций, пожалуйста поработай с ними. После я смогу принять твой проект!) В конце есть чек-лист\n",
    "\n",
    "Далее по ходу работы ты сможешь встретить мои комментарии, они будут отмечены разными цветами:\n",
    "\n",
    "<div class=\"alert alert-block alert-success\">\n",
    "Похвала и возможности развития\n",
    "</div>\n",
    "<div class=\"alert alert-block alert-warning\">\n",
    "Некритичные замечания, но стоит обратить внимание\n",
    "</div>\n",
    "<div class=\"alert alert-block alert-danger\">\n",
    "Грубая ошибка, необходимо исправить\n",
    "</div>\n",
    "\n",
    "\n",
    "Заранее прошу не удалять мои комментарии, это важно. Если у тебя возникнут вопросы, обозначь их, я с радостью тебе помогу!)\n",
    "\n",
    "Как вариант, можешь обозначить их так:\n",
    "<div class=\"alert alert-block alert-info\">\n",
    "<b>КОММЕНТАРИЙ СТУДЕНТА:</b>\n",
    "</div>"
   ]
  },
  {
   "cell_type": "markdown",
   "metadata": {},
   "source": [
    "## Исследование надёжности заёмщиков\n",
    "\n",
    "Заказчик — кредитный отдел банка. Нужно разобраться, влияет ли семейное положение и количество детей клиента на факт погашения кредита в срок. Входные данные от банка — статистика о платёжеспособности клиентов.\n",
    "\n",
    "Результаты исследования будут учтены при построении модели **кредитного скоринга** — специальной системы, которая оценивает способность потенциального заёмщика вернуть кредит банку."
   ]
  },
  {
   "cell_type": "markdown",
   "metadata": {},
   "source": [
    "<div class=\"alert alert-block alert-success\">\n",
    "<b>КОММЕНТАРИЙ РЕВЬЮВЕРА:</b> \n",
    "\n",
    "В начале проекта стоит давать чуть более развернутое описание, чтобы люди, которые будут его смотреть, могли полноценно со всем ознакомиться. Помимо краткой цели проекта рекомендую дать описание признаков данных и небольшое содержание. Можешь даже сделать <a href=\"https://sebastianraschka.com/Articles/2014_ipython_internal_links.html\">кликабельные разделы</a>, чтобы ориентироваться в проекте было еще проще.\n",
    "</div>"
   ]
  },
  {
   "cell_type": "markdown",
   "metadata": {},
   "source": [
    "### Шаг 1. Откройте файл с данными и изучите общую информацию. "
   ]
  },
  {
   "cell_type": "code",
   "execution_count": 26,
   "metadata": {},
   "outputs": [
    {
     "name": "stdout",
     "output_type": "stream",
     "text": [
      "<class 'pandas.core.frame.DataFrame'>\n",
      "RangeIndex: 21525 entries, 0 to 21524\n",
      "Data columns (total 12 columns):\n",
      "children            21525 non-null int64\n",
      "days_employed       19351 non-null float64\n",
      "dob_years           21525 non-null int64\n",
      "education           21525 non-null object\n",
      "education_id        21525 non-null int64\n",
      "family_status       21525 non-null object\n",
      "family_status_id    21525 non-null int64\n",
      "gender              21525 non-null object\n",
      "income_type         21525 non-null object\n",
      "debt                21525 non-null int64\n",
      "total_income        19351 non-null float64\n",
      "purpose             21525 non-null object\n",
      "dtypes: float64(2), int64(5), object(5)\n",
      "memory usage: 2.0+ MB\n",
      "None\n",
      "Посмотрим на первые 10 строк нашей таблицы:\n",
      "   children  days_employed  dob_years education  education_id  \\\n",
      "0         1   -8437.673028         42    высшее             0   \n",
      "1         1   -4024.803754         36   среднее             1   \n",
      "2         0   -5623.422610         33   Среднее             1   \n",
      "3         3   -4124.747207         32   среднее             1   \n",
      "4         0  340266.072047         53   среднее             1   \n",
      "5         0    -926.185831         27    высшее             0   \n",
      "6         0   -2879.202052         43    высшее             0   \n",
      "7         0    -152.779569         50   СРЕДНЕЕ             1   \n",
      "8         2   -6929.865299         35    ВЫСШЕЕ             0   \n",
      "9         0   -2188.756445         41   среднее             1   \n",
      "\n",
      "      family_status  family_status_id gender income_type  debt   total_income  \\\n",
      "0   женат / замужем                 0      F   сотрудник     0  253875.639453   \n",
      "1   женат / замужем                 0      F   сотрудник     0  112080.014102   \n",
      "2   женат / замужем                 0      M   сотрудник     0  145885.952297   \n",
      "3   женат / замужем                 0      M   сотрудник     0  267628.550329   \n",
      "4  гражданский брак                 1      F   пенсионер     0  158616.077870   \n",
      "5  гражданский брак                 1      M   компаньон     0  255763.565419   \n",
      "6   женат / замужем                 0      F   компаньон     0  240525.971920   \n",
      "7   женат / замужем                 0      M   сотрудник     0  135823.934197   \n",
      "8  гражданский брак                 1      F   сотрудник     0   95856.832424   \n",
      "9   женат / замужем                 0      M   сотрудник     0  144425.938277   \n",
      "\n",
      "                      purpose  \n",
      "0               покупка жилья  \n",
      "1     приобретение автомобиля  \n",
      "2               покупка жилья  \n",
      "3  дополнительное образование  \n",
      "4             сыграть свадьбу  \n",
      "5               покупка жилья  \n",
      "6           операции с жильем  \n",
      "7                 образование  \n",
      "8       на проведение свадьбы  \n",
      "9     покупка жилья для семьи  \n"
     ]
    }
   ],
   "source": [
    "import pandas as pd\n",
    "data = pd.read_csv('/datasets/data.csv') #импортируем и читаем файл базы данных\n",
    "print(data.info()) #выводим информацию о базе данных. Видим общее количество строк 21525,пропуски есть в графах: 'total_income', \n",
    "#'days_employed'. \n",
    "print('Посмотрим на первые 10 строк нашей таблицы:')\n",
    "print(data.head(10))\n"
   ]
  },
  {
   "cell_type": "markdown",
   "metadata": {},
   "source": [
    "### Вывод"
   ]
  },
  {
   "cell_type": "markdown",
   "metadata": {},
   "source": [
    "В нашем распоряжении таблица из 12 столбцов и 21525 строк. Пропуски есть в столбцах days_employed и total_income, эти же столбцы имеют тип данных float64. "
   ]
  },
  {
   "cell_type": "markdown",
   "metadata": {},
   "source": [
    "<div class=\"alert alert-block alert-danger\">\n",
    "<b>КОММЕНТАРИЙ РЕВЬЮВЕРА:</b> \n",
    "\n",
    "Выведи начало датафрейма\n",
    "    \n",
    "</div>"
   ]
  },
  {
   "cell_type": "markdown",
   "metadata": {},
   "source": [
    "<div class=\"alert alert-block alert-success\">\n",
    "<b>КОММЕНТАРИЙ РЕВЬЮВЕРА 2:</b> \n",
    "\n",
    "Молодец, всегда стоит осматривать датафрейм (можно использовать head \\ tail \\ sample)\n",
    "\n",
    "</div>"
   ]
  },
  {
   "cell_type": "markdown",
   "metadata": {},
   "source": [
    "### Шаг 2. Предобработка данных"
   ]
  },
  {
   "cell_type": "markdown",
   "metadata": {},
   "source": []
  },
  {
   "cell_type": "code",
   "execution_count": 27,
   "metadata": {},
   "outputs": [
    {
     "name": "stdout",
     "output_type": "stream",
     "text": [
      "Ищем пропуски в столбцах\n",
      "children               0\n",
      "days_employed       2174\n",
      "dob_years              0\n",
      "education              0\n",
      "education_id           0\n",
      "family_status          0\n",
      "family_status_id       0\n",
      "gender                 0\n",
      "income_type            0\n",
      "debt                   0\n",
      "total_income        2174\n",
      "purpose                0\n",
      "dtype: int64\n",
      "\n",
      "\n",
      "Убеждаемся в отсутствии минусовых значений зарплат\n",
      "0\n",
      "\n",
      "\n",
      "Считаем, сколько заемщиков берут средства в разных интервалах\n",
      "    Возраст заемщиков  Их количество  Количество пропусков\n",
      "0        1 до 20 лет:             65                     6\n",
      "1       21 до 30 лет:           3658                   351\n",
      "2       31 до 40 лет:           5743                   573\n",
      "3    от 41 до 50 лет:           5276                   522\n",
      "4    от 51 до 60 лет:           4542                   489\n",
      "5    от 61 до 70 лет:           2034                   215\n",
      "6   от 71 до 100 лет:            106                     8\n",
      "7  от 100 до 200 лет:              0                     0\n",
      "\n",
      "В каком возрасте люди берут кредиты чаще всего?\n",
      "dob_years\n",
      "35    617\n",
      "40    609\n",
      "41    607\n",
      "34    603\n",
      "38    598\n",
      "Name: dob_years, dtype: int64\n",
      "\n",
      "\n",
      "Максимум и минимум при заёме:\n",
      "Максимальная зарплата при заёме: 2265604.028722744\n",
      "Минимальная зарплата при заёме: 20667.26379327158\n",
      "\n",
      "\n",
      "            1 до 20 лет   21 до 30 лет  31 до 40 лет  от 41 до 50 лет  \\\n",
      "Максимум  248725.327979  997014.302946  2.200852e+06     2.265604e+06   \n",
      "Минимум    59124.071006   28092.878826  2.120528e+04     2.522789e+04   \n",
      "Средняя   122414.397399  162055.302340  1.773546e+05     1.774388e+05   \n",
      "Медиана   107857.980763  144246.139925  1.551574e+05     1.535623e+05   \n",
      "\n",
      "          от 51 до 60 лет  от 61 до 70 лет  от 71 до 100 лет  \n",
      "Максимум     1.128836e+06     1.715018e+06     264196.479171  \n",
      "Минимум      2.066726e+04     2.169510e+04      22472.755205  \n",
      "Средняя      1.592679e+05     1.452837e+05     122346.589419  \n",
      "Медиана      1.378548e+05     1.231616e+05     116322.458870  \n",
      "\n",
      "\n"
     ]
    },
    {
     "name": "stderr",
     "output_type": "stream",
     "text": [
      "/opt/conda/lib/python3.7/site-packages/ipykernel_launcher.py:93: SettingWithCopyWarning: \n",
      "A value is trying to be set on a copy of a slice from a DataFrame\n",
      "\n",
      "See the caveats in the documentation: http://pandas.pydata.org/pandas-docs/stable/user_guide/indexing.html#returning-a-view-versus-a-copy\n",
      "/opt/conda/lib/python3.7/site-packages/ipykernel_launcher.py:107: SettingWithCopyWarning: \n",
      "A value is trying to be set on a copy of a slice from a DataFrame\n",
      "\n",
      "See the caveats in the documentation: http://pandas.pydata.org/pandas-docs/stable/user_guide/indexing.html#returning-a-view-versus-a-copy\n",
      "/opt/conda/lib/python3.7/site-packages/ipykernel_launcher.py:115: SettingWithCopyWarning: \n",
      "A value is trying to be set on a copy of a slice from a DataFrame\n",
      "\n",
      "See the caveats in the documentation: http://pandas.pydata.org/pandas-docs/stable/user_guide/indexing.html#returning-a-view-versus-a-copy\n",
      "/opt/conda/lib/python3.7/site-packages/ipykernel_launcher.py:119: SettingWithCopyWarning: \n",
      "A value is trying to be set on a copy of a slice from a DataFrame\n",
      "\n",
      "See the caveats in the documentation: http://pandas.pydata.org/pandas-docs/stable/user_guide/indexing.html#returning-a-view-versus-a-copy\n"
     ]
    },
    {
     "name": "stdout",
     "output_type": "stream",
     "text": [
      "\n",
      "\n",
      "\n",
      "\n",
      "Максимальный стаж при заёме: 401755.40047533\n",
      "Минимальный стаж при заёме: 24.14163324048118\n",
      "\n",
      "\n",
      "<class 'pandas.core.frame.DataFrame'>\n",
      "RangeIndex: 21525 entries, 0 to 21524\n",
      "Data columns (total 12 columns):\n",
      "children            21525 non-null int64\n",
      "days_employed       21525 non-null float64\n",
      "dob_years           21525 non-null int64\n",
      "education           21525 non-null object\n",
      "education_id        21525 non-null int64\n",
      "family_status       21525 non-null object\n",
      "family_status_id    21525 non-null int64\n",
      "gender              21525 non-null object\n",
      "income_type         21525 non-null object\n",
      "debt                21525 non-null int64\n",
      "total_income        21515 non-null float64\n",
      "purpose             21525 non-null object\n",
      "dtypes: float64(2), int64(5), object(5)\n",
      "memory usage: 2.0+ MB\n",
      "None\n"
     ]
    },
    {
     "name": "stderr",
     "output_type": "stream",
     "text": [
      "/opt/conda/lib/python3.7/site-packages/ipykernel_launcher.py:128: SettingWithCopyWarning: \n",
      "A value is trying to be set on a copy of a slice from a DataFrame\n",
      "\n",
      "See the caveats in the documentation: http://pandas.pydata.org/pandas-docs/stable/user_guide/indexing.html#returning-a-view-versus-a-copy\n"
     ]
    }
   ],
   "source": [
    "\n",
    "print('Ищем пропуски в столбцах')\n",
    "print(data.isnull().sum()) #убеждаемся в предыдущей гипотезе, вызвав метод isnull и подсчитав количество пропусков. Пропуски \n",
    "# данные графы содержат в себе количественные переменные, значит заполнять их будем характерными значениями. Природа пропусков\n",
    "# в графе с доходом неясна, так как это обязательная входящая информация, которую сотрудники банка должны проверять, прежде, чем\n",
    "# выдавать кредит. Вместе с этим проверим, есть ли отрицательные значения в графе с доходом.\n",
    "\n",
    "\n",
    "print()\n",
    "print()\n",
    "print('Убеждаемся в отсутствии минусовых значений зарплат')\n",
    "print(data['total_income'][data['total_income']<0].count()) #отлично отрицательных значений нет. Значит все участники базы с указанным доходом, что-то\n",
    "#да зарабатывают.Люди в разном возрасте зарабатывают разные деньги, поэтому посмотрим, какой возраст у наших будщих должников.\n",
    "\n",
    "\n",
    "print() #делаем пару пробелов, чтобы выводы не сливались в одно целое.\n",
    "print()\n",
    "#Для этого напишем функцию, которая будет принимать возрастной интервал и выводить, сколько клиентов данного интервала имело\n",
    "#историю с кредитами.\n",
    "def how_old_count(age1,age2):\n",
    "    return(data['dob_years'][(data['dob_years']>=age1) & (data['dob_years']<=age2)].count())\n",
    "def miss_count(age1,age2):\n",
    "    return(data['total_income'][(data['dob_years']>=age1) & (data['dob_years']<=age2)].isnull().sum())\n",
    "#Выводим данные по количеству заемщиков, чтобы данные сохранились и можно к ним было обращаться, сделаем DataFrame\n",
    "#dob_years_count + посчитаем сразу количество пропусков в этих же интервалах.\n",
    "\n",
    "\n",
    "how_old_data = [\n",
    "    ['1 до 20 лет:', how_old_count(1,20), miss_count(1,20)],\n",
    "    ['21 до 30 лет:',how_old_count(21,30), miss_count(21,30)],\n",
    "    ['31 до 40 лет:',how_old_count(31,40), miss_count(31,40)],\n",
    "    ['от 41 до 50 лет:',how_old_count(41,50), miss_count(41,50)],\n",
    "    ['от 51 до 60 лет:',how_old_count(51,60), miss_count(51,60)],\n",
    "    ['от 61 до 70 лет:',how_old_count(61,70), miss_count(61,70)],\n",
    "    ['от 71 до 100 лет:',how_old_count(71,100), miss_count(71,100)],\n",
    "    ['от 100 до 200 лет:',how_old_count(100,200), miss_count(100,200)]\n",
    "]#DataFrame, который на всякий случай будет хранить данные по возратам.\n",
    "\n",
    "columns = ['Возраст заемщиков', 'Их количество','Количество пропусков']\n",
    "dob_years_count = pd.DataFrame(data = how_old_data, columns = columns)\n",
    "print('Считаем, сколько заемщиков берут средства в разных интервалах')                               \n",
    "print(dob_years_count)\n",
    "print()    \n",
    "\n",
    "#Как можно увидеть из таблицы, основные потребители кредитов - люди от 30 до 60 лет. Пропуски есть во всех группах,\n",
    "#в которых люди берут кредиты.\n",
    "#Посмотрим, какой возраст встречается чаще всего, заодно проверив предыдущий вывод\n",
    "print('В каком возрасте люди берут кредиты чаще всего?')\n",
    "print(data.groupby('dob_years')['dob_years'].count().sort_values(ascending=False).head(5))\n",
    "print()\n",
    "print()\n",
    "#посмотрим максимальное и минимальное значение зарплат среди заемщиков\n",
    "print('Максимум и минимум при заёме:')\n",
    "print('Максимальная зарплата при заёме:',data['total_income'].max())\n",
    "print('Минимальная зарплата при заёме:',data['total_income'].min())\n",
    "#разница между минимальным и максимальными значениями слишком большая, чтобы считать средние или медианы по\n",
    "#всем возрастам, поэтому воспользуемся уже существующей градацией по возрастам. Посчитаем средние зарплаты и медианы в \n",
    "#соответствующих группах и заполним пропуски характерными значениями.\n",
    "print()\n",
    "\n",
    "#поскольку значения графы total_income являются количественными, нам нужно заполнить пропуски характерными значениями.\n",
    "#характерные значения могут принимать вид средних или медиан, в зависимости от того какой параметр будет являться более точным\n",
    "#Есть гипотеза, что чем старше люди, чем сильнее будет разброс в деньгах в месяц. Поэтому создадим таблицу, из 5 столбцов:\n",
    "#возратной интервал, максимальная зарплата, минимальная зарплата, средняя, медиана.Чтобы наглядно можно было оценить какой параметр подйдет лучше.\n",
    "\n",
    "#напишем функцию, которая будет считать все 4 параметра и выводить их в одной строке. Входные переменные - рамки возраста\n",
    "#выходные: значения максимума, минимума, среднего и медианы\n",
    "def find_best_salary(age1,age2):\n",
    "    \n",
    "    max1 = data['total_income'][(data['dob_years']>=age1) & (data['dob_years']<=age2)].max()\n",
    "    min1 = data['total_income'][(data['dob_years']>=age1) & (data['dob_years']<=age2)].min()\n",
    "    mean1 = data['total_income'][(data['dob_years']>=age1) & (data['dob_years']<=age2)].mean()\n",
    "    median1 = data['total_income'][(data['dob_years']>=age1) & (data['dob_years']<=age2)].sort_values(ascending = False).median()\n",
    "    column = pd.Series([max1,min1,mean1,median1], index=['Максимум','Минимум','Средняя','Медиана'])\n",
    "    return column\n",
    "    \n",
    "salary1_20 = find_best_salary(1,20)\n",
    "salary21_30 = find_best_salary(21,30)\n",
    "salary31_40 = find_best_salary(31,40)\n",
    "salary41_50 = find_best_salary(41,50)\n",
    "salary51_60 = find_best_salary(51,60)\n",
    "salary61_70 = find_best_salary(61,70)\n",
    "salary71_100 = find_best_salary(71,100)\n",
    "main_salary_grouped = pd.concat([salary1_20, salary21_30, salary31_40, salary41_50, salary51_60, salary61_70, salary71_100], axis =1)\n",
    "main_salary_grouped.columns = ['1 до 20 лет', '21 до 30 лет','31 до 40 лет', 'от 41 до 50 лет', 'от 51 до 60 лет', 'от 61 до 70 лет', 'от 71 до 100 лет']\n",
    "print()\n",
    "print(main_salary_grouped)\n",
    "print()\n",
    "print()\n",
    "\n",
    "#заменяем пропущенные значения на средние по группам. Напишем функцию, которая будет выполнять это за нас\n",
    "\n",
    "def change_salary(data,age1,age2):\n",
    "    data['total_income'][(data['dob_years']>=age1) & (data['dob_years']<=age2)] = data['total_income'][(data['dob_years']>=age1) & (data['dob_years']<=age2)].fillna(data['total_income'][(data['dob_years']>=age1) & (data['dob_years']<=age2)].mean())\n",
    "                                                                        \n",
    "\n",
    "change_salary(data,1,20) \n",
    "change_salary(data,21,30)\n",
    "change_salary(data,31,40)\n",
    "change_salary(data,41,50)\n",
    "change_salary(data,51,60)\n",
    "change_salary(data,61,70)\n",
    "change_salary(data,71,100)\n",
    "\n",
    "print()\n",
    "print()\n",
    "#data[data['days_employed']['days_employed']<0] = abs(data[data['days_employed']['days_employed']<0])\n",
    "data['days_employed'][data['days_employed']<0] = abs(data['days_employed'][data['days_employed']<0]) #убираем отрицательные\n",
    "#значения в столбце 'days_employed'.\n",
    "\n",
    "print()\n",
    "print()\n",
    "print('Максимальный стаж при заёме:',data['days_employed'].max())\n",
    "print('Минимальный стаж при заёме:',data['days_employed'].min())\n",
    "#избавляемся от аномально высоких стажей\n",
    "data['days_employed'][data['days_employed']>18250] = data['days_employed']/24\n",
    "#создаем массив с целыми числами от 0 до 100, которые потом будем подставлять в цикл для заполнения пропущенных значений медианами\n",
    "years_list = list(range(0, 100))\n",
    "def days_employed_median(age):\n",
    "    data['days_employed'][data['dob_years'] == age] = data['days_employed'][data['dob_years'] == age].fillna(data['days_employed'][data['dob_years'] == age].sort_values(ascending=False).median())\n",
    "\n",
    "for i in years_list:\n",
    "    days_employed_median(i)\n",
    "\n",
    "print()\n",
    "print()\n",
    "print(data.info()) #проверяем отсутствие пропусков. Видим 10 пропусков. Это пропуски в тех строках, где пропущенно и значение возраста\n",
    "#и сумма по зарплате. Точные значения по зарплате подставить там не удастся, поэтому подставим в них медианные значения по всей таблице.\n",
    "data['total_income'][data['dob_years'] == 0] = data['total_income'][data['dob_years'] == 0].fillna(data['total_income'].sort_values(ascending=False).median())\n",
    "\n",
    "\n",
    "\n",
    "\n",
    "\n"
   ]
  },
  {
   "cell_type": "markdown",
   "metadata": {},
   "source": [
    "### Вывод"
   ]
  },
  {
   "cell_type": "markdown",
   "metadata": {},
   "source": [
    "Более тщательная проверка на пропуски с помощью метода isnull() подтвердила гипотезу о пропусках в столбцах days_employed и total_income. Первым делом мы закрыли пропуски в столбце 'total_income'. Поскольку таблица содержит в себе данные людей разного возраста, семейного положения, образования и т.д. некорректно было бы просто считать средние или медианные значения по всей таблице.\n",
    "Поэтому я решил объединить участников в группы по возрастам, для каждой группы посчитал максимум, минимум, средние, медианы. \n",
    "Но сперва я обнаружил, что 101 строка содержит в столбце возраст значение 0, что невозможно. Пропуски можно объяснить несколькими причинами:\n",
    "1. Возраст людей равен числу, кратному 10 (20,30,40,50 и т.п.) в таком случае сотрудница банка могла просто машинно ошибиться, не пропечатав нужную цифру.\n",
    "2. Данные были не нужны/важны для цели кредита (кредит выдавался на незначительную сумму), поэтому возраст не являлся обязательным параметром, поле оставили незаполненным)\n",
    "3. Потеря данных при переводе из формата в формат. Данные могли быть заполнены в виде \"24 года\" и при изымании данных из базы, автоматически проставились 0 в этих ячейках.\n",
    "\n",
    "Поскольку неясно к какой категории принадлежат заемщики с цифрой 0 в графе возраст, использовать их данные по зарплатам нельзя.  Cредние и медианы посчитаем по тем данным, где возраст указан.\n",
    "Поскольку большой разницы между средними и медианами обнаружено не было - я взял значения средних по группам. Пропуски в графе total_income объяснить сложно, поскольку это самы важный столбец в анализе выдачи кредита и для решении по выдаче оного. Могу объясниь только потерей данных при экспорте таблицы из баз данных, в связи с первоначальным некорректным заполнением.\n",
    "Оставшиеся 10 строк с пропусками и в возрасте и в зарплате заполнил медианными значениями по всей таблице.\n",
    "\n",
    "Со столбцом days_employed все оказалось сложнее. В нем встречаются, как отрицательные значения, так и неадекватные(Максимальный стаж при заёме: 401755, что равняется 1100 лет, а это начало карьеры при Игоре Рюриковиче). Значения отрицательные еще можно объяснить путаницей со знаком \"-\" при заполнении. Аномальные значения стажа только тем, что напутаны единицы измерения. Возможно, это подсчитаны часы работы, а не года. В любом случае, нет задачи строить выводы относительно данного столбца, поэтому отрицательные значения исправим с помощью функции модуля abs(). Значения, которые отражают стаж более 50 лет разделим на количество часов в сутках, чтобы получить предположительные года. А пропуски после этого заполним медианными значениями по каждому возрасту. Если бы требовался детальный анализ, связанный с данным столбцом - необходимо получить комментарии по нему у сотрудника, что составлял таблицу.\n",
    "В конце вызываем метод info для проверки пропусков, коих не обнаруживаем."
   ]
  },
  {
   "cell_type": "markdown",
   "metadata": {},
   "source": [
    "<div class=\"alert alert-block alert-success\">\n",
    "<b>КОММЕНТАРИЙ РЕВЬЮВЕРА:</b> \n",
    "\n",
    "Очень основательный подход к заполнению пропусков, как вариант также можно было провести группировку по типу занятости клиента. Такой большой и развернутый вывод, редко такое встретишь!)\n",
    "    \n",
    "</div>"
   ]
  },
  {
   "cell_type": "markdown",
   "metadata": {},
   "source": [
    "<div class=\"alert alert-block alert-warning\">\n",
    "<b>КОММЕНТАРИЙ РЕВЬЮВЕРА:</b> \n",
    "\n",
    "1. Нулевой возраст вероятнее всего маркер пропуска, можно как вариант заполнить его путем группировки по образованию\n",
    "\n",
    "2. Посмотри на уникальные значения пола, там тоже есть интересный пропуск\n",
    "    \n",
    "</div>"
   ]
  },
  {
   "cell_type": "markdown",
   "metadata": {},
   "source": [
    "### Замена типа данных"
   ]
  },
  {
   "cell_type": "code",
   "execution_count": 28,
   "metadata": {},
   "outputs": [
    {
     "name": "stdout",
     "output_type": "stream",
     "text": [
      "Есть ли отрицательные значения количества детей?\n",
      "47\n",
      "Проверка количества детей\n",
      "children\n",
      "0     14149\n",
      "1      4865\n",
      "2      2055\n",
      "3       330\n",
      "4        41\n",
      "5         9\n",
      "20       76\n",
      "Name: children, dtype: int64\n",
      "\n",
      "\n",
      "Повторная проверка количества детей\n",
      "children\n",
      "0    14149\n",
      "1     4865\n",
      "2     2131\n",
      "3      330\n",
      "4       41\n",
      "5        9\n",
      "Name: children, dtype: int64\n",
      "<class 'pandas.core.frame.DataFrame'>\n",
      "RangeIndex: 21525 entries, 0 to 21524\n",
      "Data columns (total 12 columns):\n",
      "children            21525 non-null int64\n",
      "days_employed       21525 non-null float64\n",
      "dob_years           21525 non-null int64\n",
      "education           21525 non-null object\n",
      "education_id        21525 non-null int64\n",
      "family_status       21525 non-null object\n",
      "family_status_id    21525 non-null int64\n",
      "gender              21525 non-null object\n",
      "income_type         21525 non-null object\n",
      "debt                21525 non-null int64\n",
      "total_income        21525 non-null float64\n",
      "purpose             21525 non-null object\n",
      "dtypes: float64(2), int64(5), object(5)\n",
      "memory usage: 2.0+ MB\n",
      "None\n",
      "\n",
      "\n"
     ]
    },
    {
     "name": "stderr",
     "output_type": "stream",
     "text": [
      "/opt/conda/lib/python3.7/site-packages/ipykernel_launcher.py:4: SettingWithCopyWarning: \n",
      "A value is trying to be set on a copy of a slice from a DataFrame\n",
      "\n",
      "See the caveats in the documentation: http://pandas.pydata.org/pandas-docs/stable/user_guide/indexing.html#returning-a-view-versus-a-copy\n",
      "  after removing the cwd from sys.path.\n"
     ]
    }
   ],
   "source": [
    "#займемся детьми. Посмотрим, есть ли отрицательные значения и слишком большие значения количества детей\n",
    "print('Есть ли отрицательные значения количества детей?')\n",
    "print(data['children'][data['children']<0].count()) #отрицательные значения есть. Возьмем их модуль и убирем отрицательные.\n",
    "data['children'][data['children']<0] = abs(data['children'][data['children']<0]) #убираем отрицательные\n",
    "print('Проверка количества детей')\n",
    "print(data.groupby('children')['children'].count()) #75 значений с показателем 20, что явно ошибка, и скорее всего кратная 10\n",
    "# разделим эти значения на 10\n",
    "print()\n",
    "print()\n",
    "print('Повторная проверка количества детей')\n",
    "data['children'][data['children'] == 20] = 2 \n",
    "print(data.groupby('children')['children'].count())\n",
    "# c детьми разобрались\n",
    "\n",
    "#заменим типы данных float на целочисленные. Для этого сначала снова вызовем info,чтобы посмотреть столбцы, требующие замены\n",
    "print(data.info()) \n",
    "#замены требуют total_income и days_employed\n",
    "data['total_income'] = data['total_income'].astype('int64') #заменяем на int\n",
    "data['days_employed'] = data['days_employed'].astype('int64') #заменяем на int\n",
    "print()\n",
    "print()\n",
    "\n",
    "\n"
   ]
  },
  {
   "cell_type": "markdown",
   "metadata": {},
   "source": [
    "### Вывод"
   ]
  },
  {
   "cell_type": "markdown",
   "metadata": {},
   "source": [
    "Прежде чем менять типы данных, я решил изучить остальные столбцы, в частности детский.Подсчет отрицательных значений дал результат 47. Скорее всего ошибка при заполнении, связанная с \"тире\", берем в модуль их. \n",
    "Еще один занимательный артефакт - 75 заемщиков с 20ю детьми. Семьи с таким количеством детей конечно существуют, но сомнительно, что все они пришли в один и тот же банк. Эти значения поделим на 10, и оставим в таблице их как двудетных заемщиков. Ошибка, возможно, перекочевала от числа с плавающей точкой 2.0. \n",
    "Метод info показал нам, что два столбца имеют типы float64. Поскольку все операции с ними мы уже выполнили, убрали пропуска в них, ничто нам не мешает привести их к более человеческому и наглядному типу int64. Для этого я воспользовался функцией astype. Почему? я другой не знаю. И не нашел при первом приближении.\n"
   ]
  },
  {
   "cell_type": "markdown",
   "metadata": {},
   "source": [
    "<div class=\"alert alert-block alert-success\">\n",
    "<b>КОММЕНТАРИЙ РЕВЬЮВЕРА:</b> \n",
    "\n",
    "Все очень даже хорошо! astype тут собственно как нельзя кстати)\n",
    "    \n",
    "</div>"
   ]
  },
  {
   "cell_type": "markdown",
   "metadata": {},
   "source": [
    "### Дубликаты"
   ]
  },
  {
   "cell_type": "code",
   "execution_count": 29,
   "metadata": {},
   "outputs": [
    {
     "name": "stdout",
     "output_type": "stream",
     "text": [
      "['высшее' 'среднее' 'Среднее' 'СРЕДНЕЕ' 'ВЫСШЕЕ' 'неоконченное высшее'\n",
      " 'начальное' 'Высшее' 'НЕОКОНЧЕННОЕ ВЫСШЕЕ' 'Неоконченное высшее'\n",
      " 'НАЧАЛЬНОЕ' 'Начальное' 'Ученая степень' 'УЧЕНАЯ СТЕПЕНЬ'\n",
      " 'ученая степень']\n",
      "['женат / замужем' 'гражданский брак' 'вдовец / вдова' 'в разводе'\n",
      " 'Не женат / не замужем']\n",
      "['F' 'M' 'XNA']\n",
      "['сотрудник' 'пенсионер' 'компаньон' 'госслужащий' 'безработный'\n",
      " 'предприниматель' 'студент' 'в декрете']\n",
      "['высшее' 'среднее' 'неоконченное высшее' 'начальное' 'ученая степень']\n",
      "Количество дубликатов в таблице: 71\n",
      "1\n",
      "\n",
      "\n",
      "Посчитаем какой пол преобладает при заёмах:\n",
      "F      14174\n",
      "M       7279\n",
      "XNA        1\n",
      "Name: gender, dtype: int64\n",
      "\n",
      "\n",
      "F    14175\n",
      "M     7279\n",
      "Name: gender, dtype: int64\n"
     ]
    },
    {
     "name": "stderr",
     "output_type": "stream",
     "text": [
      "/opt/conda/lib/python3.7/site-packages/ipykernel_launcher.py:25: SettingWithCopyWarning: \n",
      "A value is trying to be set on a copy of a slice from a DataFrame\n",
      "\n",
      "See the caveats in the documentation: http://pandas.pydata.org/pandas-docs/stable/user_guide/indexing.html#returning-a-view-versus-a-copy\n"
     ]
    }
   ],
   "source": [
    "#прежде чем искать дубликаты, нам нужно посмотреть, все ли правильно с регистром и ошибками в строковых столбцах, для этого вызовем метод\n",
    "#unique и посмотрим на результаты.\n",
    "\n",
    "print(data['education'].unique())\n",
    "print(data['family_status'].unique())\n",
    "print(data['gender'].unique())\n",
    "print(data['income_type'].unique())\n",
    "\n",
    "data['education'] = data['education'].str.lower()\n",
    "print(data['education'].unique())\n",
    "\n",
    "#Посчитаем, есть ли дубликаты в нашей таблице\n",
    "print('Количество дубликатов в таблице:',data.duplicated().sum()) #в таблице 71 дубликата. Удалим их\n",
    "data = data.drop_duplicates().reset_index(drop= True)\n",
    "\n",
    "#в процессе поиска уникальных значений мы обнаружили артефакт в виде пола XNА\n",
    "print(data['gender'][data['gender'] == 'XNA'].count())\n",
    "#посчтив количество данных значний, мы выясняем, что всего один такой заемщик. Поскольку в общей задаче не стоит задания выявить \n",
    "#взаимосвязи погашения долга и пола - заменим это значение на наиболее популярный пол среди заемщиков.\n",
    "print()\n",
    "print()\n",
    "print('Посчитаем какой пол преобладает при заёмах:')\n",
    "print(data['gender'].value_counts())\n",
    "#\n",
    "data['gender'][data['gender'] == 'XNA'] = 'F'\n",
    "print()\n",
    "print()\n",
    "print(data['gender'].value_counts())\n",
    "\n",
    "\n"
   ]
  },
  {
   "cell_type": "markdown",
   "metadata": {},
   "source": [
    "### Вывод"
   ]
  },
  {
   "cell_type": "markdown",
   "metadata": {},
   "source": [
    "Искать дубликаты среди числовых столбцов - нет смысла. Друго дело, посмотреть на значения строковых столбцов и поискать там различные ошибки.\n",
    "Проверка по уникальным значениям ясно дала понять, что не в порядке только столбец с образованием, из-за проблем с регистром. \n",
    "Регист ровняем по меньшем. И дальше таблица готова к глобальному поиску дубликатов с помощью duplicated().sum(). Этим методом мы нашли 71 дубликат, с которыми можно смело попрощаться с помощью метода drop_duplicates(). \n",
    "Дубликаты могли возникнуть из-за:\n",
    "1. Стыковка различных баз друг с другом.\n",
    "2. Ошибки в CRM системах, повторное создание карточек клиентов.\n",
    "3. Заемщик переоформлял кредиты с помощью других кредитов и т.п.\n",
    "\n",
    "При просвечивании на \"уникальность\" мы обнаружили интересный пол у одного заемщика - XNA. Согласно последним трендам, в банк действительно могло войти существо с неопределнным полом и сотрудник банка просто растерялся и оставим поле пустым. Но скорее всего, это просто ошибка сотрудника банка, который не заполнил поле или заполнил его некорректно. Значение всего одно, поэтому поставим вместо него пустую строку."
   ]
  },
  {
   "cell_type": "markdown",
   "metadata": {},
   "source": [
    "<div class=\"alert alert-block alert-success\">\n",
    "<b>КОММЕНТАРИЙ РЕВЬЮВЕРА:</b> \n",
    "\n",
    "Молодец, с категориальными признаками поработал, дубликаты удалил\n",
    "    \n",
    "</div>\n",
    "<div class=\"alert alert-block alert-warning\">\n",
    "<b>КОММЕНТАРИЙ РЕВЬЮВЕРА:</b> \n",
    "\n",
    "Строку с XNA лучше удалить вовсе, либо заполнить наиболее популярным полом. Признак пола как вариант может пригодиться при дополнительно группировке в блоке вопросов и значение XNA будет только мешать (твое заполнение пустым место по сути картины не меняет)\n",
    "    \n",
    "</div>"
   ]
  },
  {
   "cell_type": "markdown",
   "metadata": {},
   "source": [
    "<div class=\"alert alert-block alert-success\">\n",
    "<b>КОММЕНТАРИЙ РЕВЬЮВЕРА 2:</b> \n",
    "\n",
    "Молодец, доработал!\n",
    "\n",
    "</div>"
   ]
  },
  {
   "cell_type": "markdown",
   "metadata": {},
   "source": [
    "### Лемматизация"
   ]
  },
  {
   "cell_type": "code",
   "execution_count": 30,
   "metadata": {},
   "outputs": [
    {
     "name": "stdout",
     "output_type": "stream",
     "text": [
      "[автомобиль, \\n]                                          972\n",
      "[свадьба, \\n]                                             791\n",
      "[на,  , проведение,  , свадьба, \\n]                       768\n",
      "[сыграть,  , свадьба, \\n]                                 765\n",
      "[операция,  , с,  , недвижимость, \\n]                     675\n",
      "[покупка,  , коммерческий,  , недвижимость, \\n]           661\n",
      "[операция,  , с,  , жилье, \\n]                            652\n",
      "[покупка,  , жилье,  , для,  , сдача, \\n]                 651\n",
      "[операция,  , с,  , коммерческий,  , недвижимость, \\n]    650\n",
      "[покупка,  , жилье, \\n]                                   646\n",
      "[жилье, \\n]                                               646\n",
      "[покупка,  , жилье,  , для,  , семья, \\n]                 638\n",
      "[строительство,  , собственный,  , недвижимость, \\n]      635\n",
      "[недвижимость, \\n]                                        633\n",
      "[операция,  , со,  , свой,  , недвижимость, \\n]           627\n",
      "[строительство,  , жилой,  , недвижимость, \\n]            624\n",
      "[покупка,  , недвижимость, \\n]                            621\n",
      "[покупка,  , свой,  , жилье, \\n]                          620\n",
      "[строительство,  , недвижимость, \\n]                      619\n",
      "[ремонт,  , жилье, \\n]                                    607\n",
      "[покупка,  , жилой,  , недвижимость, \\n]                  606\n",
      "[на,  , покупка,  , свой,  , автомобиль, \\n]              505\n",
      "[заниматься,  , высокий,  , образование, \\n]              496\n",
      "[сделка,  , с,  , подержанный,  , автомобиль, \\n]         486\n",
      "[свой,  , автомобиль, \\n]                                 478\n",
      "[на,  , покупка,  , подержать,  , автомобиль, \\n]         478\n",
      "[на,  , покупка,  , автомобиль, \\n]                       471\n",
      "[приобретение,  , автомобиль, \\n]                         461\n",
      "[дополнительный,  , образование, \\n]                      460\n",
      "[сделка,  , с,  , автомобиль, \\n]                         455\n",
      "[высокий,  , образование, \\n]                             452\n",
      "[образование, \\n]                                         447\n",
      "[получение,  , дополнительный,  , образование, \\n]        446\n",
      "[получение,  , образование, \\n]                           442\n",
      "[профильный,  , образование, \\n]                          436\n",
      "[получение,  , высокий,  , образование, \\n]               426\n",
      "[заниматься,  , образование, \\n]                          408\n",
      "Name: lemma, dtype: int64\n"
     ]
    }
   ],
   "source": [
    "from pymystem3 import Mystem\n",
    "m = Mystem()\n",
    "\n",
    "def lemmatize(data):\n",
    "    return m.lemmatize(data)\n",
    "lemmas = data['purpose'].apply(lemmatize)\n",
    "data['lemma'] = lemmas\n",
    "print(data['lemma'].value_counts())\n",
    "\n",
    "\n",
    "\n",
    "\n",
    "\n",
    "\n",
    "\n"
   ]
  },
  {
   "cell_type": "markdown",
   "metadata": {},
   "source": [
    "### Вывод"
   ]
  },
  {
   "cell_type": "markdown",
   "metadata": {},
   "source": [
    "Проведем лемматизацию столбца purpose и результаты выведем в отдельный столбец lemmа, попутно состчитав, что получилось в итоге. Глянув на все цели кредита, можно сделать вывод, что все несколько целей описаны по-разному и многократно. Выделим из всех целей несколько основных: недвижимость, автомобиль, ремонт, образование, свадьба. \"Недвижимость\" вполне логично разбить на две части: обычная и коммерческая, поскольку на практике это совсем разные кредиты, как например на покупку квартиры семье или для покупку складских помещений под аренду. "
   ]
  },
  {
   "cell_type": "markdown",
   "metadata": {},
   "source": [
    "<div class=\"alert alert-block alert-success\">\n",
    "<b>КОММЕНТАРИЙ РЕВЬЮВЕРА:</b> \n",
    "\n",
    "Молодец, ты хорошо провел лемматизацию и выделил наиболее популярные цели кредита\n",
    "    \n",
    "</div>"
   ]
  },
  {
   "cell_type": "markdown",
   "metadata": {},
   "source": [
    "### Категоризация данных"
   ]
  },
  {
   "cell_type": "code",
   "execution_count": 31,
   "metadata": {},
   "outputs": [
    {
     "name": "stdout",
     "output_type": "stream",
     "text": [
      "\n",
      "\n",
      "На что берут кредиты:\n",
      "недвижимость                 8893\n",
      "автомобиль                   4306\n",
      "образование                  4013\n",
      "свадьба                      2324\n",
      "коммерческая недвижимость    1311\n",
      "ремонт                        607\n",
      "Name: true_purpose, dtype: int64\n",
      "\n",
      "\n",
      "Посмотрим на распределение зарплат:\n",
      "count    2.145400e+04\n",
      "mean     1.674143e+05\n",
      "std      9.785933e+04\n",
      "min      2.066700e+04\n",
      "25%      1.076230e+05\n",
      "50%      1.538615e+05\n",
      "75%      1.958132e+05\n",
      "max      2.265604e+06\n",
      "Name: total_income, dtype: float64\n",
      "\n",
      "\n",
      "Уровень дохода при кредитовании, 4 равных категории:\n",
      "низкий     5364\n",
      "мажоры     5364\n",
      "высокий    5363\n",
      "средний    5363\n",
      "Name: total_income_grouped, dtype: int64\n",
      "\n",
      "\n",
      "Посмотрим на результаты категоризации по детям\n",
      "   children   children_grouped\n",
      "0         1   малодетная семья\n",
      "1         1   малодетная семья\n",
      "2         0          нет детей\n",
      "3         3  многодетная семья\n",
      "4         0          нет детей\n",
      "5         0          нет детей\n",
      "6         0          нет детей\n",
      "7         0          нет детей\n",
      "8         2   малодетная семья\n",
      "9         0          нет детей\n"
     ]
    }
   ],
   "source": [
    "def purpose_type(text):\n",
    "    if 'ремонт' in text:\n",
    "        return 'ремонт'\n",
    "    elif 'коммерческий' in text:\n",
    "        return 'коммерческая недвижимость'\n",
    "    elif 'автомобиль' in text:\n",
    "        return 'автомобиль'\n",
    "    elif 'свадьба' in text:\n",
    "        return 'свадьба'\n",
    "    elif 'недвижимость' in text:\n",
    "        return'недвижимость'\n",
    "    elif 'жилье' in text:\n",
    "        return'недвижимость'\n",
    "    elif 'образование' in text:\n",
    "        return 'образование' \n",
    "    \n",
    "print()\n",
    "print()    \n",
    "data['true_purpose'] = data['lemma'].apply(purpose_type)\n",
    "print('На что берут кредиты:')\n",
    "print(data['true_purpose'].value_counts())\n",
    "print()\n",
    "print()\n",
    "print('Посмотрим на распределение зарплат:')\n",
    "print(data['total_income'].describe())\n",
    "\n",
    "def total_income_difference(income):\n",
    "    if income < 107623:\n",
    "        return 'низкий'\n",
    "    elif income > 107623 and income < 153861:\n",
    "        return 'средний'\n",
    "    elif income > 153861 and income < 195813:\n",
    "        return 'высокий'\n",
    "    elif income > 195813:\n",
    "        return 'мажоры'\n",
    "data['total_income_grouped'] = data['total_income'].apply(total_income_difference)\n",
    "print()\n",
    "print()  \n",
    "print('Уровень дохода при кредитовании, 4 равных категории:')\n",
    "print(data['total_income_grouped'].value_counts())\n",
    "print()\n",
    "print() \n",
    "def children_difference(income):\n",
    "    if income < 1:\n",
    "        return 'нет детей'\n",
    "    elif income > 0 and income < 3:\n",
    "        return 'малодетная семья'\n",
    "    elif income > 2:\n",
    "        return 'многодетная семья'\n",
    "data['children_grouped'] = data['children'].apply(children_difference)\n",
    "print('Посмотрим на результаты категоризации по детям')\n",
    "print(data[['children','children_grouped']].head(10))\n"
   ]
  },
  {
   "cell_type": "markdown",
   "metadata": {},
   "source": [
    "<div class=\"alert alert-block alert-warning\">\n",
    "<b>КОММЕНТАРИЙ РЕВЬЮВЕРА:</b> \n",
    "\n",
    "В коде дублирование блока для среднего дохода\n",
    "    \n",
    "</div>"
   ]
  },
  {
   "cell_type": "markdown",
   "metadata": {},
   "source": [
    "<div class=\"alert alert-block alert-success\">\n",
    "<b>КОММЕНТАРИЙ РЕВЬЮВЕРА 2:</b> \n",
    "    \n",
    "Good, подправил\n",
    "\n",
    "</div>"
   ]
  },
  {
   "cell_type": "markdown",
   "metadata": {},
   "source": [
    "### Вывод"
   ]
  },
  {
   "cell_type": "markdown",
   "metadata": {},
   "source": [
    "Возьмем глобальные цели кредитов, которые мы определили при лемматизации и создадим новый столбец true_purpose, который будет отражать их.  Сделав подсчет, мы выявили, что чаще всего кредиты берут для покупки или операциями с жилой недвижимостью, затем следуют автокредиты.\n",
    "\n",
    "Поскольку одной из наших задач является выявление зависимости возврата кредитов от уровня дохода, эти самые уровни необходимо определить. С помощью метода describe() я равноценно разбил все категории дохода заемщиков.\n",
    "\n",
    "Тем же методом, что и со столбцом true_purpose, создаем новый столбец, куда записываем соответствующие уровни дохода."
   ]
  },
  {
   "cell_type": "markdown",
   "metadata": {},
   "source": [
    "<div class=\"alert alert-block alert-success\">\n",
    "<b>КОММЕНТАРИЙ РЕВЬЮВЕРА:</b> \n",
    "\n",
    "Ахахахах))) \n",
    "\n",
    "1. `Доход`\n",
    "\n",
    "Интересный и хороший способ категоризации по доходу, как вариант можно было воспользоваться и таким подходом:\n",
    "    \n",
    "*  Вывести статистики с помощью describe, так бы сразу все было видно\n",
    "\n",
    "* Либо построить ящик с усами https://plotly.com/python/box-plots/\n",
    "    \n",
    "*  У нас квартилями распределение очень хорошо делится на 25%. Иными словами, все что до 1 квартиля (25%) — низкий доход, между 1 и мединой(2 квартиль) тоже будет 25% — средний доход, от медианы до 3 квартиля (25%) — выше среднего, а все что дальше 3 квартиля — высокий доход.\n",
    "    \n",
    "2. `Дети`\n",
    "    \n",
    "Я бы еще категоризировал по кол-ву детей, это не критично, но было бы удобно:\n",
    "    \n",
    "* Традиционные группы «без детей», «малодетная» (1-2 ребенка), «многодетная» (3-...)\n",
    " \n",
    "* И «есть дети \\ нет детей»\n",
    "</div>"
   ]
  },
  {
   "cell_type": "markdown",
   "metadata": {},
   "source": [
    "### Шаг 3. Ответьте на вопросы"
   ]
  },
  {
   "cell_type": "markdown",
   "metadata": {},
   "source": [
    "<div class=\"alert alert-block alert-danger\">\n",
    "<b>КОММЕНТАРИЙ РЕВЬЮВЕРА:</b> \n",
    "\n",
    "Думаю гораздо оптимальнее и нагляднее считать % невозвратов делив должников на общее число клиентов по группе, так различия будут более явными, можешь добавить этот признак в свои таблички\n",
    "    \n",
    "</div>"
   ]
  },
  {
   "cell_type": "markdown",
   "metadata": {},
   "source": [
    "- Есть ли зависимость между наличием детей и возвратом кредита в срок?"
   ]
  },
  {
   "cell_type": "code",
   "execution_count": 32,
   "metadata": {},
   "outputs": [
    {
     "name": "stdout",
     "output_type": "stream",
     "text": [
      "<class 'pandas.core.frame.DataFrame'>\n",
      "RangeIndex: 21454 entries, 0 to 21453\n",
      "Data columns (total 16 columns):\n",
      "children                21454 non-null int64\n",
      "days_employed           21454 non-null int64\n",
      "dob_years               21454 non-null int64\n",
      "education               21454 non-null object\n",
      "education_id            21454 non-null int64\n",
      "family_status           21454 non-null object\n",
      "family_status_id        21454 non-null int64\n",
      "gender                  21454 non-null object\n",
      "income_type             21454 non-null object\n",
      "debt                    21454 non-null int64\n",
      "total_income            21454 non-null int64\n",
      "purpose                 21454 non-null object\n",
      "lemma                   21454 non-null object\n",
      "true_purpose            21454 non-null object\n",
      "total_income_grouped    21454 non-null object\n",
      "children_grouped        21454 non-null object\n",
      "dtypes: int64(7), object(9)\n",
      "memory usage: 2.6+ MB\n",
      "None\n",
      "debt            0       1   percent\n",
      "children                           \n",
      "4            37.0     4.0  0.097561\n",
      "2          1926.0   202.0  0.094925\n",
      "1          4410.0   445.0  0.091658\n",
      "3           303.0    27.0  0.081818\n",
      "0         13028.0  1063.0  0.075438\n",
      "5             9.0     0.0  0.000000\n"
     ]
    }
   ],
   "source": [
    "children_depending = data.pivot_table(index = ['children'], columns = 'debt', values= 'total_income', aggfunc='count')\n",
    "children_depending = children_depending.fillna(0)\n",
    "\n",
    "children_depending['percent'] = children_depending[1] / (children_depending[0] + children_depending[1])\n",
    "print(data.info())\n",
    "print(children_depending.sort_values('percent',ascending=False))\n"
   ]
  },
  {
   "cell_type": "markdown",
   "metadata": {},
   "source": [
    "### Вывод"
   ]
  },
  {
   "cell_type": "markdown",
   "metadata": {},
   "source": [
    "Как показывает сводная таблица, лучше всех выплачивают семьи с 5ю детьми. Поскольку выборка слишком мала, то сделаем вывод о том, что лучше всех справляются с кредитами заемщики без детей, оно и понятно, меньше трат, иногда непредвиденных. \n",
    "Немного выбивается из общей картины семьи с 3 детьми"
   ]
  },
  {
   "cell_type": "markdown",
   "metadata": {},
   "source": [
    "<div class=\"alert alert-block alert-success\">\n",
    "<b>КОММЕНТАРИЙ РЕВЬЮВЕРА 2:</b> \n",
    "\n",
    "Молодец, вывод хороший. Можно было еще домножить на 100 признак percent, чтобы воспринималось еще лучше)\n",
    "\n",
    "</div>"
   ]
  },
  {
   "cell_type": "markdown",
   "metadata": {},
   "source": [
    "<div class=\"alert alert-block alert-success\">\n",
    "<b>КОММЕНТАРИЙ РЕВЬЮВЕРА:</b> \n",
    "\n",
    "Подсчитай по % невозврата, в целом наблюдаем тенденцию, что дети негативно влияют на возврат кредита\n",
    "    \n",
    "</div>"
   ]
  },
  {
   "cell_type": "markdown",
   "metadata": {},
   "source": [
    "- Есть ли зависимость между семейным положением и возвратом кредита в срок?"
   ]
  },
  {
   "cell_type": "code",
   "execution_count": 33,
   "metadata": {},
   "outputs": [
    {
     "name": "stdout",
     "output_type": "stream",
     "text": [
      "debt                       0    1   percent\n",
      "family_status                              \n",
      "Не женат / не замужем   2536  274  0.097509\n",
      "гражданский брак        3763  388  0.093471\n",
      "женат / замужем        11408  931  0.075452\n",
      "в разводе               1110   85  0.071130\n",
      "вдовец / вдова           896   63  0.065693\n",
      "\n",
      "\n",
      "На что берут кредиты вдовцы и вдовы:\n",
      "true_purpose\n",
      "автомобиль                   218.0\n",
      "коммерческая недвижимость     77.0\n",
      "недвижимость                 433.0\n",
      "образование                  199.0\n",
      "ремонт                        32.0\n",
      "свадьба                        NaN\n",
      "Name: вдовец / вдова, dtype: float64\n"
     ]
    }
   ],
   "source": [
    "family_status_depending = data.pivot_table(index = ['family_status'], columns = 'debt', values= 'total_income', aggfunc='count')\n",
    "family_status_depending = family_status_depending.fillna(0)\n",
    "\n",
    "family_status_depending['percent'] = family_status_depending[1] / (family_status_depending[0] + family_status_depending[1])\n",
    "print(family_status_depending.sort_values('percent',ascending=False))\n",
    "print()\n",
    "print()\n",
    "family_status_depending1 = data.pivot_table(index = 'true_purpose', columns = 'family_status', values= 'total_income', aggfunc='count')\n",
    "print('На что берут кредиты вдовцы и вдовы:')\n",
    "print(family_status_depending1['вдовец / вдова'])"
   ]
  },
  {
   "cell_type": "markdown",
   "metadata": {},
   "source": [
    "### Вывод"
   ]
  },
  {
   "cell_type": "markdown",
   "metadata": {},
   "source": [
    "Сводная таблица показывает, что лучше всего возвращают кредиты вдовцы и вдовы, хуже всего не обремененные ответственностью холостые люди. Возможно это можно объяснить, что вдовцы и вдовы имеют часть имущества от умершего супруга, поэтому изначально входят в кредит не с пустыми руками. Ожидаемо на свадьбы они не тратятся.\n",
    "Чаще услугами кредитов пользуются женатые или замужние заемщики. Тоже логично, им покупать квартиры, машины для семьи."
   ]
  },
  {
   "cell_type": "markdown",
   "metadata": {},
   "source": [
    "<div class=\"alert alert-block alert-success\">\n",
    "<b>КОММЕНТАРИЙ РЕВЬЮВЕРА 2:</b> \n",
    "\n",
    "Молодец, вывод хороший. Видим явное влияние статуса официальности отношений на возврат кредита (как вариант можно было провести дополнительную группировку по полу)\n",
    "\n",
    "</div>"
   ]
  },
  {
   "cell_type": "markdown",
   "metadata": {},
   "source": [
    "<div class=\"alert alert-block alert-success\">\n",
    "<b>КОММЕНТАРИЙ РЕВЬЮВЕРА:</b> \n",
    "\n",
    "Да, действительно люди, которые грубо говоря не состоят \\ не состояли в официальных отношениях хуже возвращают кредиты. Вот тут хорошо было бы проводить дополнительную группировку по полу.\n",
    "    \n",
    "</div>"
   ]
  },
  {
   "cell_type": "markdown",
   "metadata": {},
   "source": [
    "- Есть ли зависимость между уровнем дохода и возвратом кредита в срок?"
   ]
  },
  {
   "cell_type": "code",
   "execution_count": 25,
   "metadata": {},
   "outputs": [
    {
     "name": "stdout",
     "output_type": "stream",
     "text": [
      "debt                     0    1   percent\n",
      "total_income_grouped                     \n",
      "высокий               4895  468  0.087265\n",
      "средний               4900  463  0.086332\n",
      "низкий                4937  427  0.079605\n",
      "мажоры                4981  383  0.071402\n"
     ]
    }
   ],
   "source": [
    "total_income_grouped_depending = data.pivot_table(index = ['total_income_grouped'], columns = 'debt', values= 'total_income', aggfunc='count')\n",
    "total_income_grouped_depending = total_income_grouped_depending.fillna(0)\n",
    "\n",
    "total_income_grouped_depending['percent'] = total_income_grouped_depending[1] / (total_income_grouped_depending[0] + total_income_grouped_depending[1])\n",
    "print(total_income_grouped_depending.sort_values('percent',ascending=False))"
   ]
  },
  {
   "cell_type": "markdown",
   "metadata": {},
   "source": [
    "### Вывод"
   ]
  },
  {
   "cell_type": "markdown",
   "metadata": {},
   "source": [
    "Среди заемщиков наблюдается тенденция о том, что более надежными являются клиенты с доходами низкого уровня и мажоры. Средний и высокий уровень оказались менее надежными для банков заемщиками."
   ]
  },
  {
   "cell_type": "markdown",
   "metadata": {},
   "source": [
    "<div class=\"alert alert-block alert-success\">\n",
    "<b>КОММЕНТАРИЙ РЕВЬЮВЕРА 2:</b> \n",
    "\n",
    "Я оценил твое чувство юмора, но все же не стоит так называть категории людей, как «мажоры» (вдруг там селфмейды, обидятся хаха)\n",
    "\n",
    "По поводу выводов, да, удивительно, но люди среднего дохода менее надежны\n",
    "\n",
    "</div>"
   ]
  },
  {
   "cell_type": "markdown",
   "metadata": {},
   "source": [
    "<div class=\"alert alert-block alert-warning\">\n",
    "<b>КОММЕНТАРИЙ РЕВЬЮВЕРА:</b> \n",
    "\n",
    "Среди?)) Так так и что там у нас?) Мы видим, что наиболее рисковая группа это люди среднего дохода, тогда как клиенты с низким и высоким доходом надежнее\n",
    "    \n",
    "</div>"
   ]
  },
  {
   "cell_type": "markdown",
   "metadata": {},
   "source": [
    "- Как разные цели кредита влияют на его возврат в срок?"
   ]
  },
  {
   "cell_type": "code",
   "execution_count": 19,
   "metadata": {},
   "outputs": [
    {
     "name": "stdout",
     "output_type": "stream",
     "text": [
      "debt                          0    1   percent\n",
      "true_purpose                                  \n",
      "автомобиль                 3903  403  0.093590\n",
      "образование                3643  370  0.092200\n",
      "свадьба                    2138  186  0.080034\n",
      "коммерческая недвижимость  1212   99  0.075515\n",
      "недвижимость               8245  648  0.072866\n",
      "ремонт                      572   35  0.057661\n"
     ]
    }
   ],
   "source": [
    "purpose_depending = data.pivot_table(index = ['true_purpose'], columns = 'debt', values= 'total_income', aggfunc='count')\n",
    "purpose_depending = purpose_depending.fillna(0)\n",
    "\n",
    "purpose_depending['percent'] = purpose_depending[1] / (purpose_depending[0] + purpose_depending[1])\n",
    "print(purpose_depending.sort_values('percent',ascending=False))"
   ]
  },
  {
   "cell_type": "markdown",
   "metadata": {},
   "source": [
    "### Вывод"
   ]
  },
  {
   "cell_type": "markdown",
   "metadata": {},
   "source": [
    "Ожидаемо целью - лидером по кредитованию стала недвижимость. Так как это самая трудная цель для накопления средств, а жить где-то нужно. Приятно, что образование совсем немного отстало от автомобилей и обыватели понимаю пользу от образования и даже берут кредиты для его получения. \n",
    "При этом если смотреть на наличие задолженностей, то мы видим, что автокредиты имеют наименьшую возвратность, большую недвижимость и ремонт. Связано это скорее всего с серьезностью данных кредитов. Пользователи автокредитов не всегда понимают дополнительные расходы, которые могут быть связаны с обслуживанием автомобиля,особенно если берут подежаные версии авто. "
   ]
  },
  {
   "cell_type": "markdown",
   "metadata": {},
   "source": [
    "<div class=\"alert alert-block alert-success\">\n",
    "<b>КОММЕНТАРИЙ РЕВЬЮВЕРА 2:</b> \n",
    "\n",
    "Хороший вывод!\n",
    "\n",
    "</div>"
   ]
  },
  {
   "cell_type": "markdown",
   "metadata": {},
   "source": [
    "<div class=\"alert alert-block alert-success\">\n",
    "<b>КОММЕНТАРИЙ РЕВЬЮВЕРА:</b> \n",
    "\n",
    "Да, действительно автомобили и образование наиболее рисковые цели, тогда как недвижимость и свадьба более надежны\n",
    "    \n",
    "</div>"
   ]
  },
  {
   "cell_type": "markdown",
   "metadata": {},
   "source": [
    "<div class=\"alert alert-block alert-danger\">\n",
    "<b>КОММЕНТАРИЙ РЕВЬЮВЕРА:</b> \n",
    "\n",
    "Пожалуйста подсчитай % невозврата, так будут лучше видны различия\n",
    "    \n",
    "</div>"
   ]
  },
  {
   "cell_type": "markdown",
   "metadata": {},
   "source": [
    "### Шаг 4. Общий вывод"
   ]
  },
  {
   "cell_type": "markdown",
   "metadata": {},
   "source": [
    "Исследование показало нам следующие основные критерии, связанные со статистикой по кредитам. Ему были подвержены основные критерии, по которым банк оценивает заемщиков (возраст, наличие детей, доход, цели кредита и т.д.)\n",
    "На этапе предобработки данных мы столкнулись с такими проблемами как:\n",
    "- отсутствие данных в графе о доходах\n",
    "- отсутствие и неадекватные данные в графе об общем трудовом стаже\n",
    "- минусовые значения в грарфе количества детей\n",
    "- нулевые значения возраста\n",
    "- наличие дубликатов в графе образование и в целом по таблице\n",
    "- задублированные цели кредита\n",
    "\n",
    "Решив все задачи предобрабоки данных можно сделать слудющие глобальные выводы:\n",
    "- несмотря на разницу в зависимости наличия задолженностей, кредиты возвращаяются в 90% случаем минимум. т.е. банк может рассчитывать на то, 9 из 10 заемщиков вернут средства вовремя.\n",
    "- меньше всего задолженностей связаны с целями на недвижимость (покупка, операции, ремонт). Заемщики данныхк кредитов чаще возвращают деньги вовремя. Хуже всего дела обстоят с автокредитами. Разница составляет 2%, поэтому для продолжения исследдования следует посмотреть на суммы задолженностей. Поскольку один невозврат по недвижимости может быть выше, чем несколько невозвратов по автокредитованию.\n",
    "- заемщики без детей возвращают кредиты лучше. Чем больше детей, тем выше вероятность непредвиденных расходов на одежду, медицину и т.п., что ведет к появлению задолженностей. Удевительным выглядит наличие заемщиков с 3 детьми вверху списка. Объяснить это логически не получается.\n",
    "- чем выше достаток людей, тем лучше они возвращают деньги. Исключением стали лишь заемщики с низким уровнем дохода, данную аномалию можно объяснить искусственным заполненением 2174 поля в столбце 'total_income'. Пропуски в полях данной информации существенно влияют на статистику, особенно если учитывать количество данных пропусков.\n",
    "- лучше всего возвращают кредиты вдовцы и разведенные заемщики. Скорее всего потому, что это уже люди в возрасте, состоявшиеся, берут кредит спланированно, обдуманно. Хуже всего дела у неженатых и незамужних, заемщики данной категории явно моложе, ответственности у них меньше.\n",
    " "
   ]
  },
  {
   "cell_type": "markdown",
   "metadata": {},
   "source": [
    "<div class=\"alert alert-block alert-success\">\n",
    "<b>КОММЕНТАРИЙ РЕВЬЮВЕРА:</b> \n",
    "\n",
    "Хорошие выводы, ты большой молодец!\n",
    "    \n",
    "</div>"
   ]
  },
  {
   "cell_type": "markdown",
   "metadata": {},
   "source": [
    "### Чек-лист готовности проекта\n",
    "\n",
    "Поставьте 'x' в выполненных пунктах. Далее нажмите Shift+Enter."
   ]
  },
  {
   "cell_type": "markdown",
   "metadata": {},
   "source": [
    "- [x]  открыт файл;\n",
    "- [x]  файл изучен;\n",
    "- [x]  определены пропущенные значения;\n",
    "- [x]  заполнены пропущенные значения;\n",
    "- [x]  есть пояснение, какие пропущенные значения обнаружены;\n",
    "- [x]  описаны возможные причины появления пропусков в данных;\n",
    "- [x]  объяснено, по какому принципу заполнены пропуски;\n",
    "- [x]  заменен вещественный тип данных на целочисленный;\n",
    "- [x]  есть пояснение, какой метод используется для изменения типа данных и почему;\n",
    "- [x]  удалены дубликаты;\n",
    "- [x]  есть пояснение, какой метод используется для поиска и удаления дубликатов;\n",
    "- [x]  описаны возможные причины появления дубликатов в данных;\n",
    "- [x]  выделены леммы в значениях столбца с целями получения кредита;\n",
    "- [x]  описан процесс лемматизации;\n",
    "- [x]  данные категоризированы;\n",
    "- [x]  есть объяснение принципа категоризации данных;\n",
    "- [x]  есть ответ на вопрос: \"Есть ли зависимость между наличием детей и возвратом кредита в срок?\";\n",
    "- [x]  есть ответ на вопрос: \"Есть ли зависимость между семейным положением и возвратом кредита в срок?\";\n",
    "- [x]  есть ответ на вопрос: \"Есть ли зависимость между уровнем дохода и возвратом кредита в срок?\";\n",
    "- [x]  есть ответ на вопрос: \"Как разные цели кредита влияют на его возврат в срок?\";\n",
    "- [x]  в каждом этапе есть выводы;\n",
    "- [x]  есть общий вывод."
   ]
  },
  {
   "cell_type": "markdown",
   "metadata": {},
   "source": [
    "<div class=\"alert alert-block alert-success\">\n",
    "<b>КОММЕНТАРИЙ РЕВЬЮВЕРА:</b> \n",
    "\n",
    "Сергей, мне очень даже понравился твой проект, ты большой молодец, есть буквально несколько моментов на правку!)\n",
    "    \n",
    "</div>"
   ]
  },
  {
   "cell_type": "code",
   "execution_count": null,
   "metadata": {},
   "outputs": [],
   "source": []
  }
 ],
 "metadata": {
  "kernelspec": {
   "display_name": "Python 3",
   "language": "python",
   "name": "python3"
  },
  "language_info": {
   "codemirror_mode": {
    "name": "ipython",
    "version": 3
   },
   "file_extension": ".py",
   "mimetype": "text/x-python",
   "name": "python",
   "nbconvert_exporter": "python",
   "pygments_lexer": "ipython3",
   "version": "3.7.8"
  },
  "toc": {
   "base_numbering": 1,
   "nav_menu": {},
   "number_sections": true,
   "sideBar": true,
   "skip_h1_title": true,
   "title_cell": "Table of Contents",
   "title_sidebar": "Contents",
   "toc_cell": false,
   "toc_position": {},
   "toc_section_display": true,
   "toc_window_display": false
  }
 },
 "nbformat": 4,
 "nbformat_minor": 2
}
